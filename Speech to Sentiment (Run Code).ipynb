{
 "cells": [
  {
   "cell_type": "code",
   "execution_count": 1,
   "id": "641aaa49",
   "metadata": {},
   "outputs": [],
   "source": [
    "import numpy as np\n",
    "\n",
    "def load_glove_embeddings(filepath):\n",
    "    embeddings_index = {}\n",
    "    with open(filepath, encoding='utf-8') as f:\n",
    "        for line in f:\n",
    "            values = line.split()\n",
    "            word = values[0]\n",
    "            coefs = np.asarray(values[1:], dtype='float32')\n",
    "            embeddings_index[word] = coefs\n",
    "    return embeddings_index\n",
    "\n",
    "# Load GloVe embeddings\n",
    "glove_file = 'glove.6B.100d.txt'\n",
    "embeddings_index = load_glove_embeddings(glove_file)\n"
   ]
  },
  {
   "cell_type": "code",
   "execution_count": 2,
   "id": "80da2426",
   "metadata": {},
   "outputs": [],
   "source": [
    "import numpy as np\n",
    "import tensorflow as tf\n",
    "from sklearn.preprocessing import LabelEncoder\n",
    "\n",
    "# Load the pre-trained model\n",
    "model = tf.keras.models.load_model('Model.h5', compile=False)\n",
    "\n",
    "# Initialize label encoder with class labels\n",
    "label_encoder = LabelEncoder()\n",
    "label_encoder.classes_ = np.array(['negative', 'neutral', 'positive'])\n"
   ]
  },
  {
   "cell_type": "code",
   "execution_count": 3,
   "id": "e86ebc8d",
   "metadata": {},
   "outputs": [],
   "source": [
    "import sounddevice as sd\n",
    "import speech_recognition as sr\n",
    "from scipy.io.wavfile import write\n",
    "\n",
    "def record_sentence(filename='output.wav', duration=5, samplerate=16000):\n",
    "    print(\"Recording...\")\n",
    "    recording = sd.rec(int(duration * samplerate), samplerate=samplerate, channels=1, dtype='int16')\n",
    "    sd.wait()\n",
    "    write(filename, samplerate, recording)\n",
    "    print(\"Recording complete. File saved as\", filename)\n",
    "\n",
    "def audio_to_text(filename='output.wav'):\n",
    "    recognizer = sr.Recognizer()\n",
    "    with sr.AudioFile(filename) as source:\n",
    "        audio = recognizer.record(source)\n",
    "    return recognizer.recognize_google(audio)\n"
   ]
  },
  {
   "cell_type": "code",
   "execution_count": 4,
   "id": "4390ecb0",
   "metadata": {},
   "outputs": [],
   "source": [
    "import numpy as np\n",
    "import re\n",
    "\n",
    "# Function to preprocess text\n",
    "def preprocess_text(text):\n",
    "    text = re.sub(r'@[A-Za-z0-9_]+', '', text)  # Remove mentions starting with @\n",
    "    text = re.sub(r'[^a-zA-Z\\s]', '', text)    # Remove non-alphanumeric characters\n",
    "    text = text.lower()                        # Convert to lowercase\n",
    "    return text\n",
    "\n",
    "# Vectorize text using GloVe embeddings\n",
    "def vectorize_text_with_glove(text, embeddings_index):\n",
    "    words = text.split()\n",
    "    embedding_dim = len(next(iter(embeddings_index.values())))\n",
    "    text_vector = np.zeros(embedding_dim)\n",
    "    count = 0\n",
    "    for word in words:\n",
    "        embedding_vector = embeddings_index.get(word)\n",
    "        if embedding_vector is not None:\n",
    "            text_vector += embedding_vector\n",
    "            count += 1\n",
    "    if count != 0:\n",
    "        text_vector /= count\n",
    "    return text_vector\n",
    "\n",
    "def predict_sentiment(text, embeddings_index, model, label_encoder):\n",
    "    # Preprocess and vectorize text\n",
    "    preprocessed_text = preprocess_text(text)\n",
    "    text_vector = vectorize_text_with_glove(preprocessed_text, embeddings_index)\n",
    "\n",
    "    # Reshape for model input (timesteps, features)\n",
    "    text_vector_reshaped = text_vector.reshape((1, 1, len(text_vector)))\n",
    "\n",
    "    # Predict sentiment\n",
    "    pred_probs = model.predict(text_vector_reshaped)\n",
    "    pred_label_index = np.argmax(pred_probs, axis=1)\n",
    "    pred_label = label_encoder.inverse_transform(pred_label_index)\n",
    "\n",
    "    return pred_label[0]\n"
   ]
  },
  {
   "cell_type": "code",
   "execution_count": 5,
   "id": "96441d5a",
   "metadata": {},
   "outputs": [
    {
     "name": "stdout",
     "output_type": "stream",
     "text": [
      "Recording...\n",
      "Recording complete. File saved as output.wav\n",
      "Recognized text: you are so mein\n",
      "\u001b[1m1/1\u001b[0m \u001b[32m━━━━━━━━━━━━━━━━━━━━\u001b[0m\u001b[37m\u001b[0m \u001b[1m0s\u001b[0m 369ms/step\n",
      "Predicted sentiment: negative\n"
     ]
    }
   ],
   "source": [
    "# Load GloVe embeddings\n",
    "glove_file = 'glove.6B.100d.txt'\n",
    "embeddings_index = load_glove_embeddings(glove_file)\n",
    "\n",
    "# Load model and label encoder\n",
    "model = tf.keras.models.load_model('Model.h5', compile=False)\n",
    "label_encoder = LabelEncoder()\n",
    "label_encoder.classes_ = np.array(['negative', 'neutral', 'positive'])\n",
    "\n",
    "# Record and process a single sentence\n",
    "record_sentence()  # Record audio\n",
    "\n",
    "# Convert audio to text\n",
    "text = audio_to_text()\n",
    "print(\"Recognized text:\", text)\n",
    "\n",
    "# Predict sentiment\n",
    "predicted_sentiment = predict_sentiment(text, embeddings_index, model, label_encoder)\n",
    "print(\"Predicted sentiment:\", predicted_sentiment)\n"
   ]
  },
  {
   "cell_type": "code",
   "execution_count": null,
   "id": "e19281fc",
   "metadata": {},
   "outputs": [],
   "source": []
  }
 ],
 "metadata": {
  "kernelspec": {
   "display_name": ".venv",
   "language": "python",
   "name": "python3"
  },
  "language_info": {
   "codemirror_mode": {
    "name": "ipython",
    "version": 3
   },
   "file_extension": ".py",
   "mimetype": "text/x-python",
   "name": "python",
   "nbconvert_exporter": "python",
   "pygments_lexer": "ipython3",
   "version": "3.11.4"
  }
 },
 "nbformat": 4,
 "nbformat_minor": 5
}
